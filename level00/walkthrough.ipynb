{
 "cells": [
  {
   "cell_type": "code",
   "execution_count": null,
   "metadata": {
    "pycharm": {
     "name": "#%%\n"
    }
   },
   "outputs": [],
   "source": [
    "import os\n",
    "import sys\n",
    "bool('Ressources' in os.getcwd()) if sys.path.append(\"../\") else sys.path.append(\"../..\")\n",
    "from utils.ssh import exec, connect, exec_in_stream, exec_stream\n",
    "from utils.text import print_output, print_title, print_magic\n",
    "from utils.base import save_token, address_to_decimal"
   ]
  },
  {
   "cell_type": "code",
   "execution_count": null,
   "metadata": {
    "pycharm": {
     "name": "#%%\n"
    }
   },
   "outputs": [],
   "source": [
    "client = connect('level00', 'level00')"
   ]
  },
  {
   "cell_type": "code",
   "execution_count": null,
   "metadata": {
    "pycharm": {
     "name": "#%%\n"
    }
   },
   "outputs": [],
   "source": [
    "files_list = exec(client, 'ls', title='Get files list')\n",
    "print_output(files_list, 'Files')\n",
    "print_title('Test this file')"
   ]
  },
  {
   "cell_type": "code",
   "execution_count": null,
   "metadata": {
    "pycharm": {
     "name": "#%%\n"
    }
   },
   "outputs": [],
   "source": [
    "binary_name = files_list[0]"
   ]
  },
  {
   "cell_type": "code",
   "execution_count": null,
   "metadata": {
    "pycharm": {
     "name": "#%%\n"
    }
   },
   "outputs": [],
   "source": [
    "output = exec(client, f'echo \"test\" | ./{binary_name}', title='Simple execute binary')\n",
    "print_title('Okay, stdin intercepted, stdin write expected')\n",
    "print_title('Send test in stdin')\n",
    "print_output(output)\n",
    "print_title('So sad! Obtain password?')\n",
    "print_magic('Debug Time!')"
   ]
  },
  {
   "cell_type": "code",
   "execution_count": null,
   "metadata": {
    "pycharm": {
     "name": "#%%\n"
    }
   },
   "outputs": [],
   "source": [
    "func_info = exec(client, f'echo \"info func\" | gdb ./{binary_name} -q | egrep \"main\"', title='Get all functions')\n",
    "print_output(func_info)\n",
    "print_title('We have entry point (0x08048494 - main)')"
   ]
  },
  {
   "cell_type": "code",
   "execution_count": null,
   "metadata": {
    "pycharm": {
     "name": "#%%\n"
    }
   },
   "outputs": [],
   "source": [
    "main_structure = exec(client, f'echo \"disass main\" | gdb ./{binary_name} -q | egrep \"cmp\"', title='Get main structure')\n",
    "print_output(main_structure)\n",
    "print_title(f'We have CMP function, compare input with 0x149c, transform this')\n",
    "password = str(address_to_decimal(0x149c))\n",
    "print_title(f'Our password is {password}?')\n",
    "print_title('Gotcha! Try this!')"
   ]
  },
  {
   "cell_type": "code",
   "execution_count": null,
   "metadata": {
    "pycharm": {
     "name": "#%%\n"
    }
   },
   "outputs": [],
   "source": [
    "output = exec(\n",
    "    client,\n",
    "    f'echo \"\\n\" | (echo \"{password}\"; cat -) | ./{binary_name}',\n",
    "    title='Execute binary again with obtained password'\n",
    ")\n",
    "print_output(output)\n",
    "print_title('Access granted, done')\n",
    "print_title('Check which user in use at now')"
   ]
  },
  {
   "cell_type": "code",
   "execution_count": null,
   "metadata": {
    "pycharm": {
     "name": "#%%\n"
    }
   },
   "outputs": [],
   "source": [
    "output = exec(\n",
    "    client,\n",
    "    f'echo \"whoami\" | (echo \"{password}\"; cat -) | ./{binary_name}',\n",
    "    title='Execute binary again with obtained password'\n",
    ")\n",
    "user = output[0]\n",
    "print_output(user)\n",
    "print_title(\"Level01 - it's what we need, right?\")"
   ]
  },
  {
   "cell_type": "code",
   "execution_count": null,
   "metadata": {
    "pycharm": {
     "name": "#%%\n"
    }
   },
   "outputs": [],
   "source": [
    "output = exec(\n",
    "    client,\n",
    "    f'echo \"cat /home/users/{user}/.pass\" | (echo \"{password}\"; cat -) | ./{binary_name}',\n",
    "    title='Steal password'\n",
    ")\n",
    "token = output[0]\n",
    "print_output(token)\n",
    "print_title('Woo-hoo!')"
   ]
  },
  {
   "cell_type": "code",
   "execution_count": null,
   "metadata": {
    "pycharm": {
     "name": "#%%\n"
    }
   },
   "outputs": [],
   "source": [
    "save_token(token, client)"
   ]
  }
 ],
 "metadata": {
  "kernelspec": {
   "display_name": "Python 3",
   "language": "python",
   "name": "python3"
  },
  "language_info": {
   "codemirror_mode": {
    "name": "ipython",
    "version": 3
   },
   "file_extension": ".py",
   "mimetype": "text/x-python",
   "name": "python",
   "nbconvert_exporter": "python",
   "pygments_lexer": "ipython3",
   "version": "3.6.4"
  }
 },
 "nbformat": 4,
 "nbformat_minor": 2
}